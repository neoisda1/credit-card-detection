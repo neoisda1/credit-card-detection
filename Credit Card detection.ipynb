{
 "cells": [
  {
   "cell_type": "code",
   "execution_count": 1,
   "metadata": {},
   "outputs": [
    {
     "data": {
      "text/plain": [
       "'C:\\\\Users\\\\LENOVO'"
      ]
     },
     "execution_count": 1,
     "metadata": {},
     "output_type": "execute_result"
    }
   ],
   "source": [
    "pwd"
   ]
  },
  {
   "cell_type": "code",
   "execution_count": 3,
   "metadata": {},
   "outputs": [
    {
     "name": "stdout",
     "output_type": "stream",
     "text": [
      "C:\\Users\\LENOVO\\Desktop\\python examples youtube\\tf tutorial\n"
     ]
    }
   ],
   "source": [
    "cd \"C:\\Users\\LENOVO\\Desktop\\python examples youtube\\tf tutorial\""
   ]
  },
  {
   "cell_type": "code",
   "execution_count": 33,
   "metadata": {},
   "outputs": [
    {
     "name": "stdout",
     "output_type": "stream",
     "text": [
      "2.0.0\n"
     ]
    }
   ],
   "source": [
    "import tensorflow as tf\n",
    "from tensorflow import keras\n",
    "from tensorflow.keras import Sequential\n",
    "from tensorflow.keras.layers import Flatten, Dense, Dropout, BatchNormalization\n",
    "from tensorflow.keras.layers import Conv1D, MaxPool1D\n",
    "from tensorflow.keras.optimizers import Adam\n",
    "print(tf.__version__)"
   ]
  },
  {
   "cell_type": "code",
   "execution_count": 5,
   "metadata": {},
   "outputs": [],
   "source": [
    "import pandas as pd\n",
    "import numpy as np\n",
    "import seaborn as sns\n",
    "import matplotlib.pyplot as plt\n",
    "from sklearn.model_selection import train_test_split\n",
    "from sklearn.preprocessing import StandardScaler"
   ]
  },
  {
   "cell_type": "code",
   "execution_count": 6,
   "metadata": {},
   "outputs": [],
   "source": [
    "data = pd.read_csv('creditcard.csv')"
   ]
  },
  {
   "cell_type": "code",
   "execution_count": 7,
   "metadata": {},
   "outputs": [
    {
     "data": {
      "text/html": [
       "<div>\n",
       "<style scoped>\n",
       "    .dataframe tbody tr th:only-of-type {\n",
       "        vertical-align: middle;\n",
       "    }\n",
       "\n",
       "    .dataframe tbody tr th {\n",
       "        vertical-align: top;\n",
       "    }\n",
       "\n",
       "    .dataframe thead th {\n",
       "        text-align: right;\n",
       "    }\n",
       "</style>\n",
       "<table border=\"1\" class=\"dataframe\">\n",
       "  <thead>\n",
       "    <tr style=\"text-align: right;\">\n",
       "      <th></th>\n",
       "      <th>Time</th>\n",
       "      <th>V1</th>\n",
       "      <th>V2</th>\n",
       "      <th>V3</th>\n",
       "      <th>V4</th>\n",
       "      <th>V5</th>\n",
       "      <th>V6</th>\n",
       "      <th>V7</th>\n",
       "      <th>V8</th>\n",
       "      <th>V9</th>\n",
       "      <th>...</th>\n",
       "      <th>V21</th>\n",
       "      <th>V22</th>\n",
       "      <th>V23</th>\n",
       "      <th>V24</th>\n",
       "      <th>V25</th>\n",
       "      <th>V26</th>\n",
       "      <th>V27</th>\n",
       "      <th>V28</th>\n",
       "      <th>Amount</th>\n",
       "      <th>Class</th>\n",
       "    </tr>\n",
       "  </thead>\n",
       "  <tbody>\n",
       "    <tr>\n",
       "      <th>0</th>\n",
       "      <td>0.0</td>\n",
       "      <td>-1.359807</td>\n",
       "      <td>-0.072781</td>\n",
       "      <td>2.536347</td>\n",
       "      <td>1.378155</td>\n",
       "      <td>-0.338321</td>\n",
       "      <td>0.462388</td>\n",
       "      <td>0.239599</td>\n",
       "      <td>0.098698</td>\n",
       "      <td>0.363787</td>\n",
       "      <td>...</td>\n",
       "      <td>-0.018307</td>\n",
       "      <td>0.277838</td>\n",
       "      <td>-0.110474</td>\n",
       "      <td>0.066928</td>\n",
       "      <td>0.128539</td>\n",
       "      <td>-0.189115</td>\n",
       "      <td>0.133558</td>\n",
       "      <td>-0.021053</td>\n",
       "      <td>149.62</td>\n",
       "      <td>0</td>\n",
       "    </tr>\n",
       "    <tr>\n",
       "      <th>1</th>\n",
       "      <td>0.0</td>\n",
       "      <td>1.191857</td>\n",
       "      <td>0.266151</td>\n",
       "      <td>0.166480</td>\n",
       "      <td>0.448154</td>\n",
       "      <td>0.060018</td>\n",
       "      <td>-0.082361</td>\n",
       "      <td>-0.078803</td>\n",
       "      <td>0.085102</td>\n",
       "      <td>-0.255425</td>\n",
       "      <td>...</td>\n",
       "      <td>-0.225775</td>\n",
       "      <td>-0.638672</td>\n",
       "      <td>0.101288</td>\n",
       "      <td>-0.339846</td>\n",
       "      <td>0.167170</td>\n",
       "      <td>0.125895</td>\n",
       "      <td>-0.008983</td>\n",
       "      <td>0.014724</td>\n",
       "      <td>2.69</td>\n",
       "      <td>0</td>\n",
       "    </tr>\n",
       "    <tr>\n",
       "      <th>2</th>\n",
       "      <td>1.0</td>\n",
       "      <td>-1.358354</td>\n",
       "      <td>-1.340163</td>\n",
       "      <td>1.773209</td>\n",
       "      <td>0.379780</td>\n",
       "      <td>-0.503198</td>\n",
       "      <td>1.800499</td>\n",
       "      <td>0.791461</td>\n",
       "      <td>0.247676</td>\n",
       "      <td>-1.514654</td>\n",
       "      <td>...</td>\n",
       "      <td>0.247998</td>\n",
       "      <td>0.771679</td>\n",
       "      <td>0.909412</td>\n",
       "      <td>-0.689281</td>\n",
       "      <td>-0.327642</td>\n",
       "      <td>-0.139097</td>\n",
       "      <td>-0.055353</td>\n",
       "      <td>-0.059752</td>\n",
       "      <td>378.66</td>\n",
       "      <td>0</td>\n",
       "    </tr>\n",
       "    <tr>\n",
       "      <th>3</th>\n",
       "      <td>1.0</td>\n",
       "      <td>-0.966272</td>\n",
       "      <td>-0.185226</td>\n",
       "      <td>1.792993</td>\n",
       "      <td>-0.863291</td>\n",
       "      <td>-0.010309</td>\n",
       "      <td>1.247203</td>\n",
       "      <td>0.237609</td>\n",
       "      <td>0.377436</td>\n",
       "      <td>-1.387024</td>\n",
       "      <td>...</td>\n",
       "      <td>-0.108300</td>\n",
       "      <td>0.005274</td>\n",
       "      <td>-0.190321</td>\n",
       "      <td>-1.175575</td>\n",
       "      <td>0.647376</td>\n",
       "      <td>-0.221929</td>\n",
       "      <td>0.062723</td>\n",
       "      <td>0.061458</td>\n",
       "      <td>123.50</td>\n",
       "      <td>0</td>\n",
       "    </tr>\n",
       "    <tr>\n",
       "      <th>4</th>\n",
       "      <td>2.0</td>\n",
       "      <td>-1.158233</td>\n",
       "      <td>0.877737</td>\n",
       "      <td>1.548718</td>\n",
       "      <td>0.403034</td>\n",
       "      <td>-0.407193</td>\n",
       "      <td>0.095921</td>\n",
       "      <td>0.592941</td>\n",
       "      <td>-0.270533</td>\n",
       "      <td>0.817739</td>\n",
       "      <td>...</td>\n",
       "      <td>-0.009431</td>\n",
       "      <td>0.798278</td>\n",
       "      <td>-0.137458</td>\n",
       "      <td>0.141267</td>\n",
       "      <td>-0.206010</td>\n",
       "      <td>0.502292</td>\n",
       "      <td>0.219422</td>\n",
       "      <td>0.215153</td>\n",
       "      <td>69.99</td>\n",
       "      <td>0</td>\n",
       "    </tr>\n",
       "  </tbody>\n",
       "</table>\n",
       "<p>5 rows × 31 columns</p>\n",
       "</div>"
      ],
      "text/plain": [
       "   Time        V1        V2        V3        V4        V5        V6        V7  \\\n",
       "0   0.0 -1.359807 -0.072781  2.536347  1.378155 -0.338321  0.462388  0.239599   \n",
       "1   0.0  1.191857  0.266151  0.166480  0.448154  0.060018 -0.082361 -0.078803   \n",
       "2   1.0 -1.358354 -1.340163  1.773209  0.379780 -0.503198  1.800499  0.791461   \n",
       "3   1.0 -0.966272 -0.185226  1.792993 -0.863291 -0.010309  1.247203  0.237609   \n",
       "4   2.0 -1.158233  0.877737  1.548718  0.403034 -0.407193  0.095921  0.592941   \n",
       "\n",
       "         V8        V9  ...       V21       V22       V23       V24       V25  \\\n",
       "0  0.098698  0.363787  ... -0.018307  0.277838 -0.110474  0.066928  0.128539   \n",
       "1  0.085102 -0.255425  ... -0.225775 -0.638672  0.101288 -0.339846  0.167170   \n",
       "2  0.247676 -1.514654  ...  0.247998  0.771679  0.909412 -0.689281 -0.327642   \n",
       "3  0.377436 -1.387024  ... -0.108300  0.005274 -0.190321 -1.175575  0.647376   \n",
       "4 -0.270533  0.817739  ... -0.009431  0.798278 -0.137458  0.141267 -0.206010   \n",
       "\n",
       "        V26       V27       V28  Amount  Class  \n",
       "0 -0.189115  0.133558 -0.021053  149.62      0  \n",
       "1  0.125895 -0.008983  0.014724    2.69      0  \n",
       "2 -0.139097 -0.055353 -0.059752  378.66      0  \n",
       "3 -0.221929  0.062723  0.061458  123.50      0  \n",
       "4  0.502292  0.219422  0.215153   69.99      0  \n",
       "\n",
       "[5 rows x 31 columns]"
      ]
     },
     "execution_count": 7,
     "metadata": {},
     "output_type": "execute_result"
    }
   ],
   "source": [
    "data.head()"
   ]
  },
  {
   "cell_type": "code",
   "execution_count": 9,
   "metadata": {},
   "outputs": [
    {
     "data": {
      "text/plain": [
       "(284807, 31)"
      ]
     },
     "execution_count": 9,
     "metadata": {},
     "output_type": "execute_result"
    }
   ],
   "source": [
    "data.shape"
   ]
  },
  {
   "cell_type": "code",
   "execution_count": 11,
   "metadata": {},
   "outputs": [
    {
     "data": {
      "text/plain": [
       "0    284315\n",
       "1       492\n",
       "Name: Class, dtype: int64"
      ]
     },
     "execution_count": 11,
     "metadata": {},
     "output_type": "execute_result"
    }
   ],
   "source": [
    "data['Class'].value_counts()"
   ]
  },
  {
   "cell_type": "markdown",
   "metadata": {},
   "source": [
    "Balance Dataset"
   ]
  },
  {
   "cell_type": "code",
   "execution_count": 12,
   "metadata": {},
   "outputs": [],
   "source": [
    "non_fraud = data[data['Class']==0]\n",
    "fraud = data[data['Class']==1]"
   ]
  },
  {
   "cell_type": "code",
   "execution_count": 14,
   "metadata": {},
   "outputs": [
    {
     "data": {
      "text/plain": [
       "((284315, 31), (492, 31))"
      ]
     },
     "execution_count": 14,
     "metadata": {},
     "output_type": "execute_result"
    }
   ],
   "source": [
    "non_fraud.shape, fraud.shape"
   ]
  },
  {
   "cell_type": "code",
   "execution_count": 16,
   "metadata": {},
   "outputs": [
    {
     "data": {
      "text/plain": [
       "(492, 31)"
      ]
     },
     "execution_count": 16,
     "metadata": {},
     "output_type": "execute_result"
    }
   ],
   "source": [
    "non_fraud = non_fraud.sample(fraud.shape[0])\n",
    "non_fraud.shape"
   ]
  },
  {
   "cell_type": "code",
   "execution_count": 17,
   "metadata": {},
   "outputs": [],
   "source": [
    "data = fraud.append(non_fraud, ignore_index = True)"
   ]
  },
  {
   "cell_type": "code",
   "execution_count": 18,
   "metadata": {},
   "outputs": [
    {
     "data": {
      "text/plain": [
       "(984, 31)"
      ]
     },
     "execution_count": 18,
     "metadata": {},
     "output_type": "execute_result"
    }
   ],
   "source": [
    "data.shape"
   ]
  },
  {
   "cell_type": "code",
   "execution_count": 20,
   "metadata": {},
   "outputs": [
    {
     "data": {
      "text/plain": [
       "1    492\n",
       "0    492\n",
       "Name: Class, dtype: int64"
      ]
     },
     "execution_count": 20,
     "metadata": {},
     "output_type": "execute_result"
    }
   ],
   "source": [
    "data['Class'].value_counts()"
   ]
  },
  {
   "cell_type": "code",
   "execution_count": 22,
   "metadata": {},
   "outputs": [],
   "source": [
    "X = data.drop('Class', axis = 1)\n",
    "y = data['Class']"
   ]
  },
  {
   "cell_type": "code",
   "execution_count": 26,
   "metadata": {},
   "outputs": [],
   "source": [
    "X_train, X_test, y_train, y_test = train_test_split(X, y, test_size = 0.2, random_state = 0, stratify = y)\n"
   ]
  },
  {
   "cell_type": "code",
   "execution_count": 27,
   "metadata": {},
   "outputs": [],
   "source": [
    "scaler = StandardScaler()\n",
    "X_train = scaler.fit_transform(X_train)\n",
    "X_test = scaler.transform(X_test)"
   ]
  },
  {
   "cell_type": "code",
   "execution_count": 28,
   "metadata": {},
   "outputs": [],
   "source": [
    "y_train = y_train.to_numpy()\n",
    "y_test = y_test.to_numpy()"
   ]
  },
  {
   "cell_type": "code",
   "execution_count": 29,
   "metadata": {},
   "outputs": [],
   "source": [
    "X_train = X_train.reshape(X_train.shape[0], X_train.shape[1], 1)\n",
    "X_test = X_test.reshape(X_test.shape[0], X_test.shape[1], 1)"
   ]
  },
  {
   "cell_type": "code",
   "execution_count": 30,
   "metadata": {},
   "outputs": [
    {
     "data": {
      "text/plain": [
       "((787, 30, 1), (197, 30, 1))"
      ]
     },
     "execution_count": 30,
     "metadata": {},
     "output_type": "execute_result"
    }
   ],
   "source": [
    "X_train.shape, X_test.shape"
   ]
  },
  {
   "cell_type": "markdown",
   "metadata": {},
   "source": [
    "Build CNN"
   ]
  },
  {
   "cell_type": "code",
   "execution_count": 32,
   "metadata": {},
   "outputs": [
    {
     "name": "stdout",
     "output_type": "stream",
     "text": [
      "Model: \"sequential_1\"\n",
      "_________________________________________________________________\n",
      "Layer (type)                 Output Shape              Param #   \n",
      "=================================================================\n",
      "conv1d_1 (Conv1D)            (None, 29, 32)            96        \n",
      "_________________________________________________________________\n",
      "batch_normalization_1 (Batch (None, 29, 32)            128       \n",
      "_________________________________________________________________\n",
      "dropout_1 (Dropout)          (None, 29, 32)            0         \n",
      "_________________________________________________________________\n",
      "conv1d_2 (Conv1D)            (None, 28, 64)            4160      \n",
      "_________________________________________________________________\n",
      "batch_normalization_2 (Batch (None, 28, 64)            256       \n",
      "_________________________________________________________________\n",
      "dropout_2 (Dropout)          (None, 28, 64)            0         \n",
      "_________________________________________________________________\n",
      "flatten (Flatten)            (None, 1792)              0         \n",
      "_________________________________________________________________\n",
      "dense (Dense)                (None, 64)                114752    \n",
      "_________________________________________________________________\n",
      "dropout_3 (Dropout)          (None, 64)                0         \n",
      "_________________________________________________________________\n",
      "dense_1 (Dense)              (None, 1)                 65        \n",
      "=================================================================\n",
      "Total params: 119,457\n",
      "Trainable params: 119,265\n",
      "Non-trainable params: 192\n",
      "_________________________________________________________________\n"
     ]
    }
   ],
   "source": [
    "epochs = 30\n",
    "model = Sequential()\n",
    "model.add(Conv1D(32, 2, activation = 'relu', input_shape= X_train[0].shape))\n",
    "model.add(BatchNormalization())\n",
    "model.add(Dropout(0.2))\n",
    "\n",
    "model.add(Conv1D(64, 2, activation = 'relu', input_shape= X_train[0].shape))\n",
    "model.add(BatchNormalization())\n",
    "model.add(Dropout(0.5))\n",
    "\n",
    "model.add(Flatten())\n",
    "model.add(Dense(64, activation = 'relu'))\n",
    "model.add(Dropout(0.5))\n",
    "\n",
    "model.add(Dense(1, activation ='sigmoid'))\n",
    "\n",
    "model.summary()"
   ]
  },
  {
   "cell_type": "code",
   "execution_count": 44,
   "metadata": {},
   "outputs": [],
   "source": [
    "model.compile(optimizer=Adam(lr = 0.00001), loss = 'binary_crossentropy', metrics = ['Accuracy'])"
   ]
  },
  {
   "cell_type": "code",
   "execution_count": 52,
   "metadata": {},
   "outputs": [
    {
     "name": "stdout",
     "output_type": "stream",
     "text": [
      "Train on 787 samples, validate on 197 samples\n",
      "Epoch 1/30\n",
      "787/787 [==============================] - 1s 987us/sample - loss: 0.1629 - Accuracy: 0.0915 - val_loss: 0.1850 - val_Accuracy: 0.0812\n",
      "Epoch 2/30\n",
      "787/787 [==============================] - 1s 891us/sample - loss: 0.1632 - Accuracy: 0.0864 - val_loss: 0.1849 - val_Accuracy: 0.0863\n",
      "Epoch 3/30\n",
      "787/787 [==============================] - 1s 883us/sample - loss: 0.1706 - Accuracy: 0.0762 - val_loss: 0.1846 - val_Accuracy: 0.0863\n",
      "Epoch 4/30\n",
      "787/787 [==============================] - 1s 845us/sample - loss: 0.1870 - Accuracy: 0.0978 - val_loss: 0.1844 - val_Accuracy: 0.0914\n",
      "Epoch 5/30\n",
      "787/787 [==============================] - 1s 654us/sample - loss: 0.1707 - Accuracy: 0.0801 - val_loss: 0.1844 - val_Accuracy: 0.0914\n",
      "Epoch 6/30\n",
      "787/787 [==============================] - 0s 583us/sample - loss: 0.1534 - Accuracy: 0.0801 - val_loss: 0.1847 - val_Accuracy: 0.0914\n",
      "Epoch 7/30\n",
      "787/787 [==============================] - 0s 592us/sample - loss: 0.1989 - Accuracy: 0.0928 - val_loss: 0.1844 - val_Accuracy: 0.0914\n",
      "Epoch 8/30\n",
      "787/787 [==============================] - 0s 583us/sample - loss: 0.1633 - Accuracy: 0.0966 - val_loss: 0.1846 - val_Accuracy: 0.0812\n",
      "Epoch 9/30\n",
      "787/787 [==============================] - 0s 609us/sample - loss: 0.1775 - Accuracy: 0.0928 - val_loss: 0.1845 - val_Accuracy: 0.0863\n",
      "Epoch 10/30\n",
      "787/787 [==============================] - 0s 604us/sample - loss: 0.1694 - Accuracy: 0.0940 - val_loss: 0.1845 - val_Accuracy: 0.0914\n",
      "Epoch 11/30\n",
      "787/787 [==============================] - 0s 611us/sample - loss: 0.1527 - Accuracy: 0.0966 - val_loss: 0.1847 - val_Accuracy: 0.0914\n",
      "Epoch 12/30\n",
      "787/787 [==============================] - 0s 606us/sample - loss: 0.1610 - Accuracy: 0.0978 - val_loss: 0.1847 - val_Accuracy: 0.0863\n",
      "Epoch 13/30\n",
      "787/787 [==============================] - 0s 607us/sample - loss: 0.1499 - Accuracy: 0.0978 - val_loss: 0.1845 - val_Accuracy: 0.0863\n",
      "Epoch 14/30\n",
      "787/787 [==============================] - 0s 607us/sample - loss: 0.1631 - Accuracy: 0.0788 - val_loss: 0.1843 - val_Accuracy: 0.0964\n",
      "Epoch 15/30\n",
      "787/787 [==============================] - 0s 611us/sample - loss: 0.1341 - Accuracy: 0.0864 - val_loss: 0.1842 - val_Accuracy: 0.0914\n",
      "Epoch 16/30\n",
      "787/787 [==============================] - 0s 619us/sample - loss: 0.1561 - Accuracy: 0.0966 - val_loss: 0.1843 - val_Accuracy: 0.0964\n",
      "Epoch 17/30\n",
      "787/787 [==============================] - 0s 625us/sample - loss: 0.1607 - Accuracy: 0.0928 - val_loss: 0.1845 - val_Accuracy: 0.0863\n",
      "Epoch 18/30\n",
      "787/787 [==============================] - 0s 616us/sample - loss: 0.1672 - Accuracy: 0.0953 - val_loss: 0.1846 - val_Accuracy: 0.0914\n",
      "Epoch 19/30\n",
      "787/787 [==============================] - 1s 654us/sample - loss: 0.1475 - Accuracy: 0.0991 - val_loss: 0.1843 - val_Accuracy: 0.0914\n",
      "Epoch 20/30\n",
      "787/787 [==============================] - 1s 637us/sample - loss: 0.1488 - Accuracy: 0.0877 - val_loss: 0.1843 - val_Accuracy: 0.0914\n",
      "Epoch 21/30\n",
      "787/787 [==============================] - 1s 646us/sample - loss: 0.1415 - Accuracy: 0.0966 - val_loss: 0.1846 - val_Accuracy: 0.0964\n",
      "Epoch 22/30\n",
      "787/787 [==============================] - 1s 637us/sample - loss: 0.1556 - Accuracy: 0.0953 - val_loss: 0.1845 - val_Accuracy: 0.0863\n",
      "Epoch 23/30\n",
      "787/787 [==============================] - 1s 657us/sample - loss: 0.1539 - Accuracy: 0.1080 - val_loss: 0.1845 - val_Accuracy: 0.0964\n",
      "Epoch 24/30\n",
      "787/787 [==============================] - 0s 633us/sample - loss: 0.1551 - Accuracy: 0.0902 - val_loss: 0.1844 - val_Accuracy: 0.0964\n",
      "Epoch 25/30\n",
      "787/787 [==============================] - 1s 646us/sample - loss: 0.1433 - Accuracy: 0.0966 - val_loss: 0.1844 - val_Accuracy: 0.0964\n",
      "Epoch 26/30\n",
      "787/787 [==============================] - 0s 607us/sample - loss: 0.1429 - Accuracy: 0.0928 - val_loss: 0.1846 - val_Accuracy: 0.0914\n",
      "Epoch 27/30\n",
      "787/787 [==============================] - 1s 637us/sample - loss: 0.1656 - Accuracy: 0.0940 - val_loss: 0.1846 - val_Accuracy: 0.0914\n",
      "Epoch 28/30\n",
      "787/787 [==============================] - 1s 649us/sample - loss: 0.1666 - Accuracy: 0.0928 - val_loss: 0.1845 - val_Accuracy: 0.0914\n",
      "Epoch 29/30\n",
      "787/787 [==============================] - 1s 646us/sample - loss: 0.1774 - Accuracy: 0.1080 - val_loss: 0.1848 - val_Accuracy: 0.0914\n",
      "Epoch 30/30\n",
      "787/787 [==============================] - 0s 626us/sample - loss: 0.1734 - Accuracy: 0.0991 - val_loss: 0.1848 - val_Accuracy: 0.0914\n"
     ]
    }
   ],
   "source": [
    "history = model.fit(X_train, y_train, epochs = epochs, validation_data = (X_test, y_test), verbose = 1)"
   ]
  },
  {
   "cell_type": "code",
   "execution_count": 54,
   "metadata": {},
   "outputs": [],
   "source": [
    "#Learning Curve\n",
    "def plot_learningCurve(history, epoch):\n",
    "  epoch_range = range(1,epoch+1)\n",
    "  plt.plot(epoch_range, history.history['Accuracy'])\n",
    "  plt.plot(epoch_range, history.history['val_Accuracy'])\n",
    "  plt.title('Model Accuracy')\n",
    "  plt.ylabel('Accuracy')\n",
    "  plt.xlabel('Epoch')\n",
    "  plt.legend(['Train', 'Validation'], loc = 'upper left')\n",
    "  plt.show()\n",
    "\n",
    "  plt.plot(epoch_range, history.history['loss'])\n",
    "  plt.plot(epoch_range, history.history['val_loss'])\n",
    "  plt.title('Model Loss')\n",
    "  plt.ylabel('Loss')\n",
    "  plt.xlabel('Epoch')\n",
    "  plt.legend(['Train', 'Validation'], loc = 'upper left')\n",
    "  plt.show()"
   ]
  },
  {
   "cell_type": "code",
   "execution_count": 55,
   "metadata": {},
   "outputs": [
    {
     "data": {
      "text/plain": [
       "{'loss': [0.1629421089265822,\n",
       "  0.1631913314972267,\n",
       "  0.17062611239364672,\n",
       "  0.18700012112133385,\n",
       "  0.1706656820248467,\n",
       "  0.15337368740381854,\n",
       "  0.19892937228973515,\n",
       "  0.1632882461917446,\n",
       "  0.1775425948780101,\n",
       "  0.1693841625629833,\n",
       "  0.1526696898677449,\n",
       "  0.16102578812852747,\n",
       "  0.1499338822186069,\n",
       "  0.1630631531890496,\n",
       "  0.13406895309345845,\n",
       "  0.1560577716313899,\n",
       "  0.16068832466456912,\n",
       "  0.16715344727948175,\n",
       "  0.147522766564368,\n",
       "  0.14879047478699473,\n",
       "  0.1414690018930914,\n",
       "  0.15558136619031052,\n",
       "  0.1539402016955682,\n",
       "  0.1551083599748575,\n",
       "  0.1433186230960916,\n",
       "  0.14289357377810277,\n",
       "  0.16561719773306477,\n",
       "  0.1666376187053084,\n",
       "  0.1774115042318383,\n",
       "  0.17342231993526788],\n",
       " 'Accuracy': [0.091486655,\n",
       "  0.08640406,\n",
       "  0.076238886,\n",
       "  0.0978399,\n",
       "  0.080050826,\n",
       "  0.080050826,\n",
       "  0.09275731,\n",
       "  0.09656925,\n",
       "  0.09275731,\n",
       "  0.09402795,\n",
       "  0.09656925,\n",
       "  0.0978399,\n",
       "  0.0978399,\n",
       "  0.078780174,\n",
       "  0.08640406,\n",
       "  0.09656925,\n",
       "  0.09275731,\n",
       "  0.0952986,\n",
       "  0.099110544,\n",
       "  0.087674715,\n",
       "  0.09656925,\n",
       "  0.0952986,\n",
       "  0.108005084,\n",
       "  0.09021601,\n",
       "  0.09656925,\n",
       "  0.09275731,\n",
       "  0.09402795,\n",
       "  0.09275731,\n",
       "  0.108005084,\n",
       "  0.099110544],\n",
       " 'val_loss': [0.1849623997010253,\n",
       "  0.18487021094424472,\n",
       "  0.18460061481496706,\n",
       "  0.18443538854607774,\n",
       "  0.18442392676387948,\n",
       "  0.18474180837573134,\n",
       "  0.18439118813742236,\n",
       "  0.18459640836655186,\n",
       "  0.18449813059441328,\n",
       "  0.1845030725418311,\n",
       "  0.18468167710349645,\n",
       "  0.18470589897883724,\n",
       "  0.18447594169697484,\n",
       "  0.18425599798597964,\n",
       "  0.1842411654306396,\n",
       "  0.1842803759264008,\n",
       "  0.184504645522022,\n",
       "  0.18457372003438208,\n",
       "  0.1843495452918377,\n",
       "  0.1843316911194984,\n",
       "  0.18461828970061947,\n",
       "  0.1845391898553081,\n",
       "  0.18446670526515713,\n",
       "  0.18441532584389453,\n",
       "  0.1844217000519715,\n",
       "  0.18461246121920608,\n",
       "  0.18462570920246205,\n",
       "  0.18449790789012982,\n",
       "  0.1847880357866965,\n",
       "  0.1848261232870787],\n",
       " 'val_Accuracy': [0.08121827,\n",
       "  0.08629441,\n",
       "  0.08629441,\n",
       "  0.09137056,\n",
       "  0.09137056,\n",
       "  0.09137056,\n",
       "  0.09137056,\n",
       "  0.08121827,\n",
       "  0.08629441,\n",
       "  0.09137056,\n",
       "  0.09137056,\n",
       "  0.08629441,\n",
       "  0.08629441,\n",
       "  0.0964467,\n",
       "  0.09137056,\n",
       "  0.0964467,\n",
       "  0.08629441,\n",
       "  0.09137056,\n",
       "  0.09137056,\n",
       "  0.09137056,\n",
       "  0.0964467,\n",
       "  0.08629441,\n",
       "  0.0964467,\n",
       "  0.0964467,\n",
       "  0.0964467,\n",
       "  0.09137056,\n",
       "  0.09137056,\n",
       "  0.09137056,\n",
       "  0.09137056,\n",
       "  0.09137056]}"
      ]
     },
     "execution_count": 55,
     "metadata": {},
     "output_type": "execute_result"
    }
   ],
   "source": [
    "history.history"
   ]
  },
  {
   "cell_type": "code",
   "execution_count": 56,
   "metadata": {},
   "outputs": [
    {
     "data": {
      "image/png": "[encoded data removed]",
      "text/plain": [
       "<Figure size 432x288 with 1 Axes>"
      ]
     },
     "metadata": {
      "needs_background": "light"
     },
     "output_type": "display_data"
    },
    {
     "data": {
      "image/png": "[encoded data removed]",
      "text/plain": [
       "<Figure size 432x288 with 1 Axes>"
      ]
     },
     "metadata": {
      "needs_background": "light"
     },
     "output_type": "display_data"
    }
   ],
   "source": [
    "plot_learningCurve(history,epochs)"
   ]
  },
  {
   "cell_type": "code",
   "execution_count": null,
   "metadata": {},
   "outputs": [],
   "source": []
  }
 ],
 "metadata": {
  "kernelspec": {
   "display_name": "Python 3",
   "language": "python",
   "name": "python3"
  },
  "language_info": {
   "codemirror_mode": {
    "name": "ipython",
    "version": 3
   },
   "file_extension": ".py",
   "mimetype": "text/x-python",
   "name": "python",
   "nbconvert_exporter": "python",
   "pygments_lexer": "ipython3",
   "version": "3.6.9"
  }
 },
 "nbformat": 4,
 "nbformat_minor": 2
}
